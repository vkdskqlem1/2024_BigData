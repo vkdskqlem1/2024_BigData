{
 "cells": [
  {
   "cell_type": "code",
   "execution_count": 1,
   "id": "74cfa582",
   "metadata": {},
   "outputs": [],
   "source": [
    "# 등급을 구분하는 문제를 만들어봅시다\n",
    "# 80점 이상이면 A 40점 이상이면 B 나머지 C등급 출력\n",
    "#0 0 ~ 100점 사이 이외의 숫자는 \"잘 못된 숫자를 입력\""
   ]
  },
  {
   "cell_type": "code",
   "execution_count": 29,
   "id": "60a2f82e",
   "metadata": {},
   "outputs": [
    {
     "name": "stdout",
     "output_type": "stream",
     "text": [
      "점수 : 9999999999999999999999999999999999999999999999999999999999999999999999999999999999999999999999999999999999999999999999999999999999999999999999999999999999999999999999999999999999999999999999999999999999999999999999999999999999999999999999999999999999999999999999999999999999999999999999999999999999999999999999999999999999999999999999999999999999999999999999999999999999999999999999999999999999999999999999999999999999999999999999999999999999999999999999999999999999999999999999999999999999999999999999999999999999999999999999999999999999999999999999999999999999999999999999999999999999999999999999999999999999999999999999999999999999999999999999999999999999999999999\n",
      "잘못된 숫자를 입력했습니다\n"
     ]
    }
   ],
   "source": [
    "n = int(input('점수 : ')) # 올바른 숫자 범위가 맞는지 틀리는지 구분\n",
    "if n < 0 or n > 100 :\n",
    "    print(f'잘못된 숫자를 입력했습니다')\n",
    "# 80점 이상 A등급 출력\n",
    "elif 80 <= n:\n",
    "    print('A')\n",
    "# 40점 이상 B등급 출력\n",
    "elif 40 <= n:\n",
    "    print('B')\n",
    "# 나머지 C등급 출력\n",
    "else:\n",
    "    print('C')"
   ]
  },
  {
   "cell_type": "code",
   "execution_count": 35,
   "id": "c1ddefba",
   "metadata": {},
   "outputs": [
    {
     "name": "stdout",
     "output_type": "stream",
     "text": [
      "점수 : 2\n",
      "C\n"
     ]
    }
   ],
   "source": [
    "점수 = int(input('점수 : '))\n",
    "\n",
    "if 점수 < 0 or 점수 > 100 :\n",
    "    print('잘못된 숫자를 입력하였습니다.')\n",
    "else : \n",
    "    if 점수 >= 80 :\n",
    "        print('A등급')\n",
    "    elif 점수 >= 40 :\n",
    "        print('B등급')\n",
    "    else :\n",
    "        print('C')"
   ]
  },
  {
   "cell_type": "markdown",
   "id": "784042af",
   "metadata": {},
   "source": [
    "## 범위 내에서 반복하기 for\n",
    "### 5.1.1 반복문이란"
   ]
  },
  {
   "cell_type": "code",
   "execution_count": 36,
   "id": "d078972a",
   "metadata": {},
   "outputs": [
    {
     "name": "stdout",
     "output_type": "stream",
     "text": [
      "안녕하세요\n",
      "안녕하세요\n",
      "안녕하세요\n",
      "안녕하세요\n",
      "안녕하세요\n"
     ]
    }
   ],
   "source": [
    "for a in [1,2,3,4,5] :\n",
    "    print('안녕하세요')"
   ]
  },
  {
   "cell_type": "code",
   "execution_count": 39,
   "id": "69eb0e8b",
   "metadata": {},
   "outputs": [
    {
     "name": "stdout",
     "output_type": "stream",
     "text": [
      "1 을(를)저장 중입니다.\n",
      "2 을(를)저장 중입니다.\n",
      "3 을(를)저장 중입니다.\n",
      "4 을(를)저장 중입니다.\n",
      "5 을(를)저장 중입니다.\n"
     ]
    }
   ],
   "source": [
    "for a in [1,2,3,4,5] :\n",
    "    print(a,'을(를)저장 중입니다.')"
   ]
  },
  {
   "cell_type": "code",
   "execution_count": 41,
   "id": "d7e59475",
   "metadata": {},
   "outputs": [
    {
     "name": "stdout",
     "output_type": "stream",
     "text": [
      "9 안녕하세요,\n",
      "8 안녕하세요,\n",
      "7 안녕하세요,\n",
      "6 안녕하세요,\n",
      "5 안녕하세요,\n",
      "4 안녕하세요,\n",
      "3 안녕하세요,\n",
      "2 안녕하세요,\n",
      "1 안녕하세요,\n",
      "0 안녕하세요,\n"
     ]
    }
   ],
   "source": [
    "for a in[9,8,7,6,5,4,3,2,1,0] :\n",
    "    print(a, '안녕하세요,')"
   ]
  },
  {
   "cell_type": "markdown",
   "id": "231cfa97",
   "metadata": {},
   "source": [
    "## 5.1.2 연속된 숫자를 range()로 간단하게 표현하기"
   ]
  },
  {
   "cell_type": "code",
   "execution_count": 45,
   "id": "4009b0b3",
   "metadata": {},
   "outputs": [
    {
     "name": "stdout",
     "output_type": "stream",
     "text": [
      "1 선생님, 다시는 청소를 빼먹지 않겠습니다\n",
      "2 선생님, 다시는 청소를 빼먹지 않겠습니다\n",
      "3 선생님, 다시는 청소를 빼먹지 않겠습니다\n",
      "4 선생님, 다시는 청소를 빼먹지 않겠습니다\n",
      "5 선생님, 다시는 청소를 빼먹지 않겠습니다\n",
      "6 선생님, 다시는 청소를 빼먹지 않겠습니다\n",
      "7 선생님, 다시는 청소를 빼먹지 않겠습니다\n",
      "8 선생님, 다시는 청소를 빼먹지 않겠습니다\n",
      "9 선생님, 다시는 청소를 빼먹지 않겠습니다\n",
      "10 선생님, 다시는 청소를 빼먹지 않겠습니다\n",
      "11 선생님, 다시는 청소를 빼먹지 않겠습니다\n",
      "12 선생님, 다시는 청소를 빼먹지 않겠습니다\n",
      "13 선생님, 다시는 청소를 빼먹지 않겠습니다\n",
      "14 선생님, 다시는 청소를 빼먹지 않겠습니다\n",
      "15 선생님, 다시는 청소를 빼먹지 않겠습니다\n",
      "16 선생님, 다시는 청소를 빼먹지 않겠습니다\n",
      "17 선생님, 다시는 청소를 빼먹지 않겠습니다\n",
      "18 선생님, 다시는 청소를 빼먹지 않겠습니다\n",
      "19 선생님, 다시는 청소를 빼먹지 않겠습니다\n"
     ]
    }
   ],
   "source": [
    "for i in range(1, 20) :\n",
    "    print(i,'선생님, 다시는 청소를 빼먹지 않겠습니다')"
   ]
  },
  {
   "cell_type": "code",
   "execution_count": 47,
   "id": "096d5752",
   "metadata": {},
   "outputs": [
    {
     "name": "stdout",
     "output_type": "stream",
     "text": [
      "1\n",
      "3\n",
      "5\n",
      "7\n",
      "9\n",
      "11\n",
      "13\n",
      "15\n",
      "17\n",
      "19\n"
     ]
    }
   ],
   "source": [
    "for i in range(1,20,2) :\n",
    "    print(i)"
   ]
  },
  {
   "cell_type": "code",
   "execution_count": 50,
   "id": "69fe26a8",
   "metadata": {},
   "outputs": [
    {
     "name": "stdout",
     "output_type": "stream",
     "text": [
      "1275\n"
     ]
    }
   ],
   "source": [
    "# 1부터 50까지 숫자의 합을 구하는 프로그램\n",
    "\n",
    "리썰 = 0\n",
    "for i in range(1,51) :\n",
    "    리썰 += i\n",
    "print(리썰)"
   ]
  },
  {
   "cell_type": "code",
   "execution_count": null,
   "id": "e18d38cb",
   "metadata": {},
   "outputs": [],
   "source": [
    "# print()를 반복문 내부에 작성하면\n",
    "리썰 = 0\n",
    "for i in range(1,51) :\n",
    "    리썰 += i\n",
    "    print(리썰)"
   ]
  }
 ],
 "metadata": {
  "kernelspec": {
   "display_name": "Python 3 (ipykernel)",
   "language": "python",
   "name": "python3"
  },
  "language_info": {
   "codemirror_mode": {
    "name": "ipython",
    "version": 3
   },
   "file_extension": ".py",
   "mimetype": "text/x-python",
   "name": "python",
   "nbconvert_exporter": "python",
   "pygments_lexer": "ipython3",
   "version": "3.9.7"
  }
 },
 "nbformat": 4,
 "nbformat_minor": 5
}
