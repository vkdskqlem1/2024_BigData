{
 "cells": [
  {
   "cell_type": "code",
   "execution_count": null,
   "id": "8ea3f946",
   "metadata": {},
   "outputs": [],
   "source": [
    "print('+와 -를 번갈아 출력합니다.')\n",
    "n = int(input('몇 개를 출력할까요?: '))\n",
    "\n",
    "for i in range(n):           # 반복 n번\n",
    "    if i % 2:\n",
    "        print('-', end = '') # 홀수인 경우 - 출력\n",
    "    else:\n",
    "        print('+', end = '') # 짝수인 경우 + 출력\n",
    "print()"
   ]
  },
  {
   "cell_type": "code",
   "execution_count": 19,
   "id": "8197de3b",
   "metadata": {},
   "outputs": [
    {
     "name": "stdout",
     "output_type": "stream",
     "text": [
      "+와 -를 번갈아 출력합니다.\n",
      "몇 개를 출력할까요?: 20\n",
      "-+-+-+-+-+-+-+-+-+-+\n"
     ]
    }
   ],
   "source": [
    "# range(처음값 , 마지값)\n",
    "\n",
    "print('+와 -를 번갈아 출력합니다.')\n",
    "n = int(input('몇 개를 출력할까요?: '))\n",
    "\n",
    "for i in range(1,n+1):           # 반복 n번\n",
    "    if i % 2:\n",
    "        print('-', end = '') # 홀수인 경우 - 출력\n",
    "    else:\n",
    "        print('+', end = '') # 짝수인 경우 + 출력\n",
    "print()"
   ]
  },
  {
   "cell_type": "code",
   "execution_count": 22,
   "id": "3072df38",
   "metadata": {},
   "outputs": [
    {
     "name": "stdout",
     "output_type": "stream",
     "text": [
      "+와 -를 번갈아 출력합니다.\n",
      "몇 개를 출력할까요?: 123\n",
      "+-+-+-+-+-+-+-+-+-+-+-+-+-+-+-+-+-+-+-+-+-+-+-+-+-+-+-+-+-+-+-+-+-+-+-+-+-+-+-+-+-+-+-+-+-+-+-+-+-+-+-+-+-+-+-+-+-+-+-+-+-+\n"
     ]
    }
   ],
   "source": [
    "print('+와 -를 번갈아 출력합니다.')\n",
    "n = int(input('몇 개를 출력할까요?: '))\n",
    "\n",
    "for _ in range(n // 2):\n",
    "    print('+-', end = '') # n // 2개의 +-를 출력\n",
    "    \n",
    "if n % 2:\n",
    "    print('+', end = '') # n이 홀 수 일때만 +출력\n",
    "\n",
    "print()"
   ]
  },
  {
   "cell_type": "code",
   "execution_count": 34,
   "id": "35df403d",
   "metadata": {},
   "outputs": [
    {
     "name": "stdout",
     "output_type": "stream",
     "text": [
      "*를 출력합니다\n",
      "몇 개를 출력할까요?: 10\n",
      "몇 개마다 줄바꿈 할까요?: 5\n",
      "*****\n",
      "*****\n"
     ]
    }
   ],
   "source": [
    "# range(처음값 , 마지값)\n",
    "\n",
    "print('*를 출력합니다')\n",
    "n = int(input('몇 개를 출력할까요?: '))\n",
    "b = int(input('몇 개마다 줄바꿈 할까요?: '))\n",
    "\n",
    "#n번 반복\n",
    "for i in range(n):          \n",
    "        print('*', end = '') \n",
    "        if i % b == b - 1: #n번 판단\n",
    "            print() #줄바꿈"
   ]
  },
  {
   "cell_type": "code",
   "execution_count": 40,
   "id": "17b07c42",
   "metadata": {},
   "outputs": [
    {
     "name": "stdout",
     "output_type": "stream",
     "text": [
      "1부터 n까지 정수의 합을 구합니다.\n",
      "n값을 입력하세요.: -6\n",
      "n값을 입력하세요.: 0\n",
      "n값을 입력하세요.: 10\n",
      "1부터 10까지 정수의 합은 55입니다.\n"
     ]
    }
   ],
   "source": [
    "print('1부터 n까지 정수의 합을 구합니다.')\n",
    "a = int(input('n값을 입력하세요.: '))\n",
    "\n",
    "sum = 0\n",
    "\n",
    "while a < 1:\n",
    "    a = int(input('n값을 입력하세요.: '))\n",
    "    \n",
    "for i in range(1,n+1):   \n",
    "    sum+=i\n",
    "\n",
    "print(f'1부터 {n}까지 정수의 합은 {sum}입니다.')"
   ]
  }
 ],
 "metadata": {
  "kernelspec": {
   "display_name": "Python 3 (ipykernel)",
   "language": "python",
   "name": "python3"
  },
  "language_info": {
   "codemirror_mode": {
    "name": "ipython",
    "version": 3
   },
   "file_extension": ".py",
   "mimetype": "text/x-python",
   "name": "python",
   "nbconvert_exporter": "python",
   "pygments_lexer": "ipython3",
   "version": "3.9.7"
  }
 },
 "nbformat": 4,
 "nbformat_minor": 5
}
