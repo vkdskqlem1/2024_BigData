{
 "cells": [
  {
   "cell_type": "code",
   "execution_count": 1,
   "id": "e50619b6",
   "metadata": {},
   "outputs": [],
   "source": [
    "olympic = [[1,'미국',46,37,38,121],\n",
    "          [2,'영국',27,23,17,67],\n",
    "          [3,'중국',26,18,26,70],\n",
    "          [4,'러시아',19,18,19,56],\n",
    "          [5,'독일',17,10,15,42],\n",
    "          [6,'일본',12,8,21,41],\n",
    "          [7,'프랑스',10,18,14,42],\n",
    "          [8,'대한민국',9,3,9,21]]"
   ]
  },
  {
   "cell_type": "code",
   "execution_count": 2,
   "id": "cd2de984",
   "metadata": {},
   "outputs": [
    {
     "name": "stdout",
     "output_type": "stream",
     "text": [
      "미국 금메달 개수: 46\n",
      "독일 금메달 개수: 17\n"
     ]
    }
   ],
   "source": [
    "print(olympic[0][1],'금메달 개수:',olympic[0][2])\n",
    "print(olympic[4][1],'금메달 개수:',olympic[4][2])"
   ]
  },
  {
   "cell_type": "code",
   "execution_count": 3,
   "id": "f1e30f3d",
   "metadata": {},
   "outputs": [
    {
     "name": "stdout",
     "output_type": "stream",
     "text": [
      "금메달보다 은메달이 더 많은 나라\n",
      "프랑스\n"
     ]
    }
   ],
   "source": [
    "# 금메달보다 은메달이 더 많은 나라 출력하기\n",
    "\n",
    "print('금메달보다 은메달이 더 많은 나라')\n",
    "for i in olympic:\n",
    "    if i[2] < i[3]:\n",
    "        print(i[1])"
   ]
  },
  {
   "cell_type": "code",
   "execution_count": 7,
   "id": "362c2afd",
   "metadata": {},
   "outputs": [
    {
     "name": "stdout",
     "output_type": "stream",
     "text": [
      "금메달보다 동메달이 더 많은 나라\n",
      "일본\n",
      "프랑스\n"
     ]
    }
   ],
   "source": [
    "# 금메달보다 동메달이 더 많은 나라 출력하기\n",
    "\n",
    "print('금메달보다 동메달이 더 많은 나라')\n",
    "for i in olympic:\n",
    "    if i[2] < i[4]:\n",
    "        print(i[1])"
   ]
  },
  {
   "cell_type": "code",
   "execution_count": 10,
   "id": "2d2bb289",
   "metadata": {},
   "outputs": [
    {
     "name": "stdout",
     "output_type": "stream",
     "text": [
      "금메달의 전체 개수는?\n",
      "166\n"
     ]
    }
   ],
   "source": [
    "# 금메달의 전체 개수를 출력하기\n",
    "print('금메달의 전체 개수는?')\n",
    "total = 0\n",
    "for i in olympic:\n",
    "    total += i[2]\n",
    "print(total)"
   ]
  },
  {
   "cell_type": "code",
   "execution_count": 11,
   "id": "0e1cc5e2",
   "metadata": {},
   "outputs": [
    {
     "name": "stdout",
     "output_type": "stream",
     "text": [
      "['역사탐험대', '파이썬', '학습법', '영단어', '여행에세이', '삼국지']\n",
      "[20172, 15157, 17172, 18979, 16354, 18743]\n"
     ]
    }
   ],
   "source": [
    "import random\n",
    "\n",
    "book = [\"역사탐험대\",\"파이썬\",\"학습법\",\"영단어\",\"여행에세이\",\"삼국지\"]\n",
    "price = []\n",
    "\n",
    "for i in range(len(book)):\n",
    "    price.append(random.randint(15000,25000))\n",
    "print(book)\n",
    "print(price)"
   ]
  },
  {
   "cell_type": "code",
   "execution_count": 13,
   "id": "712a7fdc",
   "metadata": {},
   "outputs": [
    {
     "name": "stdout",
     "output_type": "stream",
     "text": [
      "가장 비싼 책은?\n",
      "역사탐험대\n"
     ]
    }
   ],
   "source": [
    "# 가장 비싼 책은?\n",
    "\n",
    "print('가장 비싼 책은?')\n",
    "total = max(price)\n",
    "idx = price.index(total)\n",
    "print(book[idx])"
   ]
  }
 ],
 "metadata": {
  "kernelspec": {
   "display_name": "Python 3 (ipykernel)",
   "language": "python",
   "name": "python3"
  },
  "language_info": {
   "codemirror_mode": {
    "name": "ipython",
    "version": 3
   },
   "file_extension": ".py",
   "mimetype": "text/x-python",
   "name": "python",
   "nbconvert_exporter": "python",
   "pygments_lexer": "ipython3",
   "version": "3.9.7"
  }
 },
 "nbformat": 4,
 "nbformat_minor": 5
}
