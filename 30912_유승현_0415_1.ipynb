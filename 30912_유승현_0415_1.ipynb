{
 "cells": [
  {
   "cell_type": "code",
   "execution_count": 7,
   "id": "41bf205d",
   "metadata": {},
   "outputs": [
    {
     "name": "stdout",
     "output_type": "stream",
     "text": [
      "6275\n"
     ]
    }
   ],
   "source": [
    "## 반복문을 이용하여 101부터 150까지 합을 구하는 프로그램 작성\n",
    "# 결과용 변수 만들고 초기화\n",
    "ㅂ = 0\n",
    "# 반복문 for\n",
    "\n",
    "for i in range(101,151):\n",
    "    ㅂ += i\n",
    "print(ㅂ)"
   ]
  },
  {
   "cell_type": "code",
   "execution_count": 22,
   "id": "28d3ac6f",
   "metadata": {},
   "outputs": [
    {
     "name": "stdout",
     "output_type": "stream",
     "text": [
      "362880\n"
     ]
    }
   ],
   "source": [
    "# 1부터 10까지 곱하는 프로그램 작성\n",
    "q = 1\n",
    "for i in range(1,10):\n",
    "    q *= i\n",
    "print(q)"
   ]
  },
  {
   "cell_type": "code",
   "execution_count": 41,
   "id": "f800d854",
   "metadata": {},
   "outputs": [
    {
     "name": "stdout",
     "output_type": "stream",
     "text": [
      "몇 단을 외울까요? :3\n",
      "3X1 = 3\n",
      "3X2 = 6\n",
      "3X3 = 9\n",
      "3X4 = 12\n",
      "3X5 = 15\n",
      "3X6 = 18\n",
      "3X7 = 21\n",
      "3X8 = 24\n",
      "3X9 = 27\n",
      "3X10 = 30\n",
      "3X11 = 33\n",
      "3X12 = 36\n",
      "3X13 = 39\n",
      "3X14 = 42\n",
      "3X15 = 45\n",
      "3X16 = 48\n",
      "3X17 = 51\n",
      "3X18 = 54\n",
      "3X19 = 57\n"
     ]
    }
   ],
   "source": [
    "# 구구단 출력하기\n",
    "v = int(input('몇 단을 외울까요? :'))\n",
    "for i in range(1,20):\n",
    "    print(f'{v}X{i} = {v*i}')"
   ]
  },
  {
   "cell_type": "code",
   "execution_count": 83,
   "id": "37d946b5",
   "metadata": {},
   "outputs": [
    {
     "name": "stdout",
     "output_type": "stream",
     "text": [
      "7\n"
     ]
    }
   ],
   "source": [
    "# random 임의의 숫자\n",
    "# 라이브러리 Libary  불러오기\n",
    "import random \n",
    "\n",
    "print(random.randrange(1,10,2))"
   ]
  },
  {
   "cell_type": "code",
   "execution_count": 85,
   "id": "12a16ebb",
   "metadata": {},
   "outputs": [
    {
     "name": "stdout",
     "output_type": "stream",
     "text": [
      "3\n"
     ]
    }
   ],
   "source": [
    "import random \n",
    "\n",
    "print(random.randint(1,10))"
   ]
  },
  {
   "cell_type": "code",
   "execution_count": 87,
   "id": "895695f8",
   "metadata": {},
   "outputs": [
    {
     "name": "stdout",
     "output_type": "stream",
     "text": [
      "10\n",
      "0\n",
      "1\n",
      "8\n",
      "8\n",
      "8\n",
      "2\n",
      "2\n",
      "2\n",
      "3\n"
     ]
    }
   ],
   "source": [
    "import random\n",
    "\n",
    "for i in range(10):\n",
    "    print(random.randint(0,10))"
   ]
  },
  {
   "cell_type": "code",
   "execution_count": 100,
   "id": "a6cda08c",
   "metadata": {},
   "outputs": [
    {
     "name": "stdout",
     "output_type": "stream",
     "text": [
      "구구단 오ㅣ자~~구구단 오ㅣ자~~\n",
      "7X3 은 = 21\n",
      "5X3 은 = 15\n",
      "8X1 은 = 8\n",
      "4X3 은 = 12\n",
      "2X8 은 = 16\n",
      "4X6 은 = 24\n",
      "9X6 은 = 54\n",
      "2X9 은 = 18\n",
      "8X1 은 = 8\n",
      "8X2 은 = 16\n"
     ]
    }
   ],
   "source": [
    "# 구구단 외기 게임 1\n",
    "import random\n",
    "\n",
    "print(f'구구단 오ㅣ자~~'*2)\n",
    "\n",
    "for i in range(10):\n",
    "    a = random.randint(2,9)\n",
    "    b = random.randint(1,9)\n",
    "    print(f'{a}X{b} 은 = {a*b}')"
   ]
  },
  {
   "cell_type": "code",
   "execution_count": 104,
   "id": "df18ab98",
   "metadata": {},
   "outputs": [
    {
     "name": "stdout",
     "output_type": "stream",
     "text": [
      "구구단을 외자구구단을 외자\n",
      "3X5 ? 2\n",
      "4X9 ? 4\n",
      "3X1 ? 1\n",
      "6X2 ? 1\n",
      "3X5 ? 1\n",
      "4X6 ? 1\n",
      "6X6 ? 2\n",
      "3X9 ? 4\n",
      "3X6 ? 5\n",
      "5X5 ? 5\n"
     ]
    }
   ],
   "source": [
    "# 구구단 외기 게임 2 - 정답입력 받기\n",
    "import random\n",
    "\n",
    "print('구구단을 외자'*2)\n",
    "for i in range(10):\n",
    "        a = random.randint(2,9)\n",
    "        b = random.randint(1,9)\n",
    "        퀘스찬 = str(a) + 'X' + str(b) + ' ? '\n",
    "        input(퀘스찬)"
   ]
  },
  {
   "cell_type": "code",
   "execution_count": null,
   "id": "386e712f",
   "metadata": {},
   "outputs": [
    {
     "name": "stdout",
     "output_type": "stream",
     "text": [
      "구구단을 외자구구단을 외자\n",
      "2X9은?4\n",
      "틀렸습니다\n",
      "9X5은?45\n",
      "맞았습니다\n"
     ]
    }
   ],
   "source": [
    "## 구구단 외기 게임 3 - 정답입력이 맞다 틀리다를 구분\n",
    "import random\n",
    "\n",
    "print('구구단을 외자'*2)\n",
    "for i in range(10):\n",
    "        a = random.randint(2,9)\n",
    "        b = random.randint(1,9)\n",
    "        퀘스찬 = input(f'{a}X{b}은?')\n",
    "        앤써 = int(퀘스찬)\n",
    "        if 앤써 != a*b :\n",
    "            print('틀렸습니다')\n",
    "        else:\n",
    "            print('맞았습니다')"
   ]
  }
 ],
 "metadata": {
  "kernelspec": {
   "display_name": "Python 3 (ipykernel)",
   "language": "python",
   "name": "python3"
  },
  "language_info": {
   "codemirror_mode": {
    "name": "ipython",
    "version": 3
   },
   "file_extension": ".py",
   "mimetype": "text/x-python",
   "name": "python",
   "nbconvert_exporter": "python",
   "pygments_lexer": "ipython3",
   "version": "3.9.7"
  }
 },
 "nbformat": 4,
 "nbformat_minor": 5
}
