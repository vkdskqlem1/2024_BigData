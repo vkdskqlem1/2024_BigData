{
 "cells": [
  {
   "cell_type": "markdown",
   "id": "26e05a65",
   "metadata": {},
   "source": [
    "#### 1. 1부터 1000까지 숫자 중에서 2의 배수이거나 3의 배수면 더하는 프로그램"
   ]
  },
  {
   "cell_type": "code",
   "execution_count": 9,
   "id": "1858aff1",
   "metadata": {},
   "outputs": [
    {
     "name": "stdout",
     "output_type": "stream",
     "text": [
      "1부터 1000까지 숫자의 중에서 2의 배수이거나 3의 배수면 더하는 프로그램\n",
      "334167\n"
     ]
    }
   ],
   "source": [
    "# 출력한다\n",
    "print('1부터 1000까지 숫자의 중에서 2의 배수이거나 3의 배수면 더하는 프로그램')\n",
    "\n",
    "# 변수를 만들고 초기화 한다.\n",
    "res  = 0 \n",
    "num = 1\n",
    "# 언제까지 1부터 1000까지 , 반복문 , while\n",
    "# 2의 배수 이거나 3의배수\n",
    "# 2의 배수 num % 2 == 0\n",
    "# 이거나 or\n",
    "# 3의 배수 num % 3 == 0 \n",
    "\n",
    "while num <= 1000:\n",
    "    if num % 2 == 0 or num % 3 == 0 :\n",
    "        res += num\n",
    "    num += 1\n",
    "print(res)"
   ]
  },
  {
   "cell_type": "code",
   "execution_count": 10,
   "id": "3ded123e",
   "metadata": {},
   "outputs": [
    {
     "name": "stdout",
     "output_type": "stream",
     "text": [
      "1부터 1000까지 숫자의 중에서 2의 배수이거나 3의 배수면 더하는 프로그램\n",
      "334167\n"
     ]
    }
   ],
   "source": [
    "# 1부터 1000까지 숫자 중에서 2의 배수이거나 3의 배수면 더하는 프로그램 입니다.\n",
    "print('1부터 1000까지 숫자의 중에서 2의 배수이거나 3의 배수면 더하는 프로그램')\n",
    "\n",
    "res = 0 # 결과를 저장할 변수를 초기화 합니다\n",
    "num = 1 # 시작 숫자를 1로 지정합니다\n",
    "\n",
    "while num <= 1000:\n",
    "    # 만약 숫자가 2의 배수이거나 3의 배수라면\n",
    "    if num % 2 == 0 or num % 3 == 0:\n",
    "        res += num # 결과 변수에 현재 숫자를 더합니다.\n",
    "    num += 1 # 다음 숫자로 넘어갑니다.\n",
    "print(res) # 결과를 출력합니다."
   ]
  },
  {
   "cell_type": "markdown",
   "id": "e0886817",
   "metadata": {},
   "source": [
    "## 구구단을 외자~~ "
   ]
  },
  {
   "cell_type": "code",
   "execution_count": null,
   "id": "40bbf47d",
   "metadata": {},
   "outputs": [],
   "source": [
    "import random # 랜덤으로 숫자를 지정해줍니다\n",
    "print('구구단을 외자! 구구단을 이자!') # 출력을 해줍니다\n",
    "t = 0 # 맞은 횟수와 틀린 횟수를 저장할 변수를 초기화 합니다\n",
    "f = 0 # 맞은 횟수와 틀린 횟수를 저장할 변수를 초기화 합니다\n",
    "for i in range(10): # 반복문으로 1부터 10까지의 값을 지정해줍니다\n",
    "    a = random.randint(2,9) # 2에서 9까지의 숫자를 랜덤으로 정해서 구구단의 값을 줍니다\n",
    "    b = random.randint(1,9) # 1에서 9까지의 숫자를 랜덤으로 정해서 구구단의 값을 줍니다\n",
    "    print('{}X{} = ?'.format(a,b)) # 사용자에게 답을 입력 받습니다\n",
    "    answer = int(input('')) # 사용자의 답과 정답을 비교하여 결과를 출력합니다\n",
    "    if a*b == answer :\n",
    "        print('정답!') # 맞은 횟수를 증가시킵니다\n",
    "        t = t + 1\n",
    "    else :\n",
    "        print('틀렸어요') # 틀린 횟수를 증가시킵니다\n",
    "        f = f + 1\n",
    "print('맞춘 횟수 : {}, 틀린 횟수 : {}'.format(t,f)) # 최종으로 맞은 횟수와 틀린 횟수를 출력합니다"
   ]
  },
  {
   "cell_type": "code",
   "execution_count": null,
   "id": "0fc1bd9c",
   "metadata": {},
   "outputs": [],
   "source": [
    "import random # 랜덤으로 숫자를 지정해줍니다\n",
    "print('구구단을 외자! 구구단을 이자!') # 사용자에게 구구단을 외우라는 메세지를 출력합니다\n",
    "t = 0 # 맞은 횟수와 틀린 횟수를 저장할 변수를 초기화 합니다\n",
    "f = 0 # 맞은 횟수와 틀린 횟수를 저장할 변수를 초기화 합니다\n",
    "for i in range(10): # 반복문으로 1부터 10까지의 값을 지정해줍니다\n",
    "    a = random.randint(2,9) # 2에서 9까지의 임의의 숫자를 선택하여 구구단의 단을 결정합니다\n",
    "    b = random.randint(1,9) # 1에서 9까지의 임의의 숫자를 선택하여 구구단의 단을 결정합니다\n",
    "    print('{}X{} = ?'.format(a,b)) # 사용자로부터 답을 입력 받습니다\n",
    "    answer = int(input('')) # 사용자의 답과 정답을 비교하여 결과를 출력합니다\n",
    "    if a*b == answer :\n",
    "        print('정답!') # 맞은 횟수를 증가시킵니다\n",
    "        t = t + 1\n",
    "    else :\n",
    "        print('틀렸어요') # 틀린 횟수를 증가시킵니다\n",
    "        f = f + 1\n",
    "print('맞춘 횟수 : {}, 틀린 횟수 : {}'.format(t,f)) # 최종적으로 맞은 횟수와 틀린 횟수를 출력합니다"
   ]
  }
 ],
 "metadata": {
  "kernelspec": {
   "display_name": "Python 3 (ipykernel)",
   "language": "python",
   "name": "python3"
  },
  "language_info": {
   "codemirror_mode": {
    "name": "ipython",
    "version": 3
   },
   "file_extension": ".py",
   "mimetype": "text/x-python",
   "name": "python",
   "nbconvert_exporter": "python",
   "pygments_lexer": "ipython3",
   "version": "3.9.7"
  }
 },
 "nbformat": 4,
 "nbformat_minor": 5
}
