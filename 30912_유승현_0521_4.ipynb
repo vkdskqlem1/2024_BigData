{
 "cells": [
  {
   "cell_type": "markdown",
   "id": "4a14ff19",
   "metadata": {},
   "source": [
    "# 딕셔너리 : 사전 "
   ]
  },
  {
   "cell_type": "code",
   "execution_count": 18,
   "id": "5aebc299",
   "metadata": {},
   "outputs": [
    {
     "name": "stdout",
     "output_type": "stream",
     "text": [
      "{'break': '깨어지다', 'bring': '가져오다', 'brush': '붓', 'brave': '용감한'}\n"
     ]
    }
   ],
   "source": [
    "eng = {'break':'깨어지다','bring':'가져오다','brush':'붓','brave':'용감한'}\n",
    "print(eng)"
   ]
  },
  {
   "cell_type": "code",
   "execution_count": 19,
   "id": "8d1cb985",
   "metadata": {},
   "outputs": [
    {
     "name": "stdout",
     "output_type": "stream",
     "text": [
      "깨어지다\n"
     ]
    }
   ],
   "source": [
    "print(eng['break'])"
   ]
  },
  {
   "cell_type": "code",
   "execution_count": 20,
   "id": "4adf4cf8",
   "metadata": {},
   "outputs": [
    {
     "name": "stdout",
     "output_type": "stream",
     "text": [
      "붓\n",
      "용감한\n"
     ]
    }
   ],
   "source": [
    "print(eng['brush'])\n",
    "print(eng['brave'])"
   ]
  },
  {
   "cell_type": "code",
   "execution_count": 24,
   "id": "8be3e078",
   "metadata": {},
   "outputs": [
    {
     "name": "stdout",
     "output_type": "stream",
     "text": [
      "뭐 먹을래?라면\n",
      "3000 원 입니다.\n"
     ]
    }
   ],
   "source": [
    "menu = {'김밥':2500,'참치김밥':3500,'라면':3000,'치즈라면':4000}\n",
    "eat=  input('뭐 먹을래?')\n",
    "print(menu[eat],'원 입니다.')"
   ]
  },
  {
   "cell_type": "code",
   "execution_count": 25,
   "id": "194e7b91",
   "metadata": {},
   "outputs": [],
   "source": [
    "menu['라면'] = 3500\n",
    "menu['치즈라면'] = 4500"
   ]
  },
  {
   "cell_type": "code",
   "execution_count": 26,
   "id": "6950718a",
   "metadata": {},
   "outputs": [
    {
     "name": "stdout",
     "output_type": "stream",
     "text": [
      "{'김밥': 2500, '참치김밥': 3500, '라면': 3500, '치즈라면': 4500}\n"
     ]
    }
   ],
   "source": [
    "print(menu)"
   ]
  },
  {
   "cell_type": "code",
   "execution_count": 27,
   "id": "cdeaa83b",
   "metadata": {},
   "outputs": [
    {
     "name": "stdout",
     "output_type": "stream",
     "text": [
      "{'김밥': 3000, '참치김밥': 3500, '라면': 3500, '치즈라면': 4500}\n"
     ]
    }
   ],
   "source": [
    "menu['김밥'] +=500\n",
    "print(menu)"
   ]
  },
  {
   "cell_type": "code",
   "execution_count": 28,
   "id": "12518110",
   "metadata": {},
   "outputs": [],
   "source": [
    "# 돈까스 6000원 추가해 봅시다"
   ]
  },
  {
   "cell_type": "code",
   "execution_count": 29,
   "id": "05649c72",
   "metadata": {},
   "outputs": [
    {
     "name": "stdout",
     "output_type": "stream",
     "text": [
      "{'김밥': 3000, '참치김밥': 3500, '라면': 3500, '치즈라면': 4500, '돈까스': 6000}\n"
     ]
    }
   ],
   "source": [
    "menu['돈까스'] = 6000\n",
    "print(menu)"
   ]
  },
  {
   "cell_type": "code",
   "execution_count": 30,
   "id": "f027c770",
   "metadata": {},
   "outputs": [
    {
     "name": "stdout",
     "output_type": "stream",
     "text": [
      "추가할 메뉴는?돈가스\n",
      "메뉴의 가격은?99999999\n",
      "{'김밥': 2500, '참치김밥': 3500, '라면': 3000, '치즈라면': 4000, '돈가스': 99999999}\n"
     ]
    }
   ],
   "source": [
    "menu = {'김밥':2500,'참치김밥':3500,'라면':3000,'치즈라면':4000}\n",
    "# 메뉴 및 가격을 input을 이용하여 추가하는 프로그램 제작\n",
    "name = input('추가할 메뉴는?')\n",
    "price = int(input('메뉴의 가격은?'))\n",
    "\n",
    "menu[name] = price\n",
    "print(menu)"
   ]
  },
  {
   "cell_type": "code",
   "execution_count": 34,
   "id": "f7c499c9",
   "metadata": {},
   "outputs": [
    {
     "name": "stdout",
     "output_type": "stream",
     "text": [
      "{'김밥': 2500, '참치김밥': 3500, '라면': 3000}\n",
      "삭제할 메뉴는?\n"
     ]
    },
    {
     "ename": "KeyError",
     "evalue": "''",
     "output_type": "error",
     "traceback": [
      "\u001b[1;31m---------------------------------------------------------------------------\u001b[0m",
      "\u001b[1;31mKeyError\u001b[0m                                  Traceback (most recent call last)",
      "\u001b[1;32m~\\AppData\\Local\\Temp/ipykernel_5956/3807153264.py\u001b[0m in \u001b[0;36m<module>\u001b[1;34m\u001b[0m\n\u001b[0;32m      4\u001b[0m \u001b[0mprint\u001b[0m\u001b[1;33m(\u001b[0m\u001b[0mmenu\u001b[0m\u001b[1;33m)\u001b[0m\u001b[1;33m\u001b[0m\u001b[1;33m\u001b[0m\u001b[0m\n\u001b[0;32m      5\u001b[0m \u001b[0mname\u001b[0m \u001b[1;33m=\u001b[0m \u001b[0minput\u001b[0m\u001b[1;33m(\u001b[0m\u001b[1;34m'삭제할 메뉴는?'\u001b[0m\u001b[1;33m)\u001b[0m\u001b[1;33m\u001b[0m\u001b[1;33m\u001b[0m\u001b[0m\n\u001b[1;32m----> 6\u001b[1;33m \u001b[1;32mdel\u001b[0m \u001b[0mmenu\u001b[0m\u001b[1;33m[\u001b[0m\u001b[0mname\u001b[0m\u001b[1;33m]\u001b[0m\u001b[1;33m\u001b[0m\u001b[1;33m\u001b[0m\u001b[0m\n\u001b[0m\u001b[0;32m      7\u001b[0m \u001b[0mprint\u001b[0m\u001b[1;33m(\u001b[0m\u001b[0mmenu\u001b[0m\u001b[1;33m)\u001b[0m\u001b[1;33m\u001b[0m\u001b[1;33m\u001b[0m\u001b[0m\n",
      "\u001b[1;31mKeyError\u001b[0m: ''"
     ]
    }
   ],
   "source": [
    "# 키-값을 삭제하기 del\n",
    "\n",
    "# 돈까스 삭제\n",
    "print(menu)\n",
    "name = input('삭제할 메뉴는?')\n",
    "del menu[name]\n",
    "print(menu)"
   ]
  },
  {
   "cell_type": "code",
   "execution_count": 35,
   "id": "1d46ba26",
   "metadata": {},
   "outputs": [
    {
     "name": "stdout",
     "output_type": "stream",
     "text": [
      "dict_keys(['김밥', '참치김밥', '라면'])\n"
     ]
    }
   ],
   "source": [
    "# 딕셔너리의 키만 꺼내기: keys()\n",
    "print(menu.keys())"
   ]
  },
  {
   "cell_type": "code",
   "execution_count": 36,
   "id": "12eaaa79",
   "metadata": {},
   "outputs": [
    {
     "name": "stdout",
     "output_type": "stream",
     "text": [
      "dict_values([2500, 3500, 3000])\n"
     ]
    }
   ],
   "source": [
    "# 딕셔너리의 값만 꺼내기 values()\n",
    "print(menu.values())"
   ]
  },
  {
   "cell_type": "code",
   "execution_count": 37,
   "id": "8fac0a26",
   "metadata": {},
   "outputs": [
    {
     "name": "stdout",
     "output_type": "stream",
     "text": [
      "['김밥', '참치김밥', '라면']\n"
     ]
    }
   ],
   "source": [
    "# 추출한 키값을 결괏값을 리스트로 바꾸기\n",
    "print(list(menu.keys()))"
   ]
  },
  {
   "cell_type": "code",
   "execution_count": 38,
   "id": "0ebddf39",
   "metadata": {},
   "outputs": [
    {
     "name": "stdout",
     "output_type": "stream",
     "text": [
      "dict_items([('김밥', 2500), ('참치김밥', 3500), ('라면', 3000)])\n"
     ]
    }
   ],
   "source": [
    "# key + value = items\n",
    "\n",
    "print(menu.items())"
   ]
  },
  {
   "cell_type": "code",
   "execution_count": 43,
   "id": "e1c3cf10",
   "metadata": {},
   "outputs": [
    {
     "name": "stdout",
     "output_type": "stream",
     "text": [
      "['김밥', '라면', '참치김밥']\n",
      "['참치김밥', '라면', '김밥']\n",
      "[('김밥', 2500), ('라면', 3000), ('참치김밥', 3500)]\n"
     ]
    }
   ],
   "source": [
    "# 키를 기준으로 딕셔너리 정렬하기 : sorted()\n",
    "# 키를 기준으로 딕셔너리 역순 정렬하기 : reverse = True\n",
    "# 키-값을 쌍으로 묶어서 딕셔너리 정렬하기 : sorted() items\n",
    "print(sorted(menu.keys()))\n",
    "print(sorted(menu.keys(),reverse = True))\n",
    "print(sorted(menu.items()))"
   ]
  },
  {
   "cell_type": "code",
   "execution_count": 45,
   "id": "293d385c",
   "metadata": {},
   "outputs": [
    {
     "name": "stdout",
     "output_type": "stream",
     "text": [
      "[('참치김밥', 3500), ('라면', 3000), ('김밥', 2500)]\n",
      "[('참치김밥', 3500), ('라면', 3000)]\n"
     ]
    }
   ],
   "source": [
    "# 값을 기준으로 키-값 쌍 정렬하기 : sorted()\n",
    "import operator\n",
    "\n",
    "print(sorted(menu.items(), key = operator.itemgetter(1), reverse = True))\n",
    "print(sorted(menu.items(), key = operator.itemgetter(1), reverse = True)[:2])"
   ]
  },
  {
   "cell_type": "markdown",
   "id": "bb314293",
   "metadata": {},
   "source": [
    "# 조건문으로 딕셔너리 다루기\n"
   ]
  },
  {
   "cell_type": "code",
   "execution_count": 49,
   "id": "d23bb021",
   "metadata": {},
   "outputs": [
    {
     "name": "stdout",
     "output_type": "stream",
     "text": [
      "{'도윤': 43, '하윤': 82, '시우': 76, '지유': 61, '주원': 94}\n",
      "어떤 학생의 점수가 궁금하신가요?도윤\n",
      "43 입니다\n"
     ]
    }
   ],
   "source": [
    "midterm = {'도윤':43,'하윤':82,'시우':76,'지유':61,'주원':94}\n",
    "print(midterm)\n",
    "student = input('어떤 학생의 점수가 궁금하신가요?')\n",
    "\n",
    "# if 어떤학생인지 찾기\n",
    "if student in midterm.keys():\n",
    "    print(midterm[student],'입니다')\n",
    "else:\n",
    "    print('해당 학생이 없습니다')"
   ]
  },
  {
   "cell_type": "code",
   "execution_count": 50,
   "id": "083b0846",
   "metadata": {},
   "outputs": [
    {
     "name": "stdout",
     "output_type": "stream",
     "text": [
      "하윤 82\n",
      "시우 76\n",
      "주원 94\n"
     ]
    }
   ],
   "source": [
    "# 중간고사 점수가 70점 이상인 학생은 누구\n",
    "midterm = {'도윤':43,'하윤':82,'시우':76,'지유':61,'주원':94}\n",
    "\n",
    "for k,v in midterm.items():\n",
    "    if v>=70:\n",
    "        print(k,v)"
   ]
  },
  {
   "cell_type": "code",
   "execution_count": null,
   "id": "f70acbce",
   "metadata": {},
   "outputs": [],
   "source": []
  }
 ],
 "metadata": {
  "kernelspec": {
   "display_name": "Python 3 (ipykernel)",
   "language": "python",
   "name": "python3"
  },
  "language_info": {
   "codemirror_mode": {
    "name": "ipython",
    "version": 3
   },
   "file_extension": ".py",
   "mimetype": "text/x-python",
   "name": "python",
   "nbconvert_exporter": "python",
   "pygments_lexer": "ipython3",
   "version": "3.9.7"
  }
 },
 "nbformat": 4,
 "nbformat_minor": 5
}
