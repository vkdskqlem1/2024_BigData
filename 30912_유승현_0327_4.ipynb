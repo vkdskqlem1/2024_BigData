{
 "cells": [
  {
   "cell_type": "code",
   "execution_count": 4,
   "id": "d3d7ad70",
   "metadata": {},
   "outputs": [
    {
     "name": "stdout",
     "output_type": "stream",
     "text": [
      "학생 그룹 점수와 합계의 평균을 구합니다.\n",
      "1번 학생의 점수를 입력하세요. : 1\n",
      "2번 학생의 점수를 입력하세요. : 2\n",
      "3번 학생의 점수를 입력하세요. : 3\n",
      "4번 학생의 점수를 입력하세요. : 4\n",
      "5번 학생의 점수를 입력하세요. : 5\n",
      "합계는15점입니다.\n",
      "평균은3.0점입니다.\n"
     ]
    }
   ],
   "source": [
    "# 학생 5명의 시험 점수를 입력받아 합계와 평균을 출력하기\n",
    "#\n",
    "\n",
    "print('학생 그룹 점수와 합계의 평균을 구합니다.')\n",
    "a = int(input('1번 학생의 점수를 입력하세요. : '))\n",
    "b = int(input('2번 학생의 점수를 입력하세요. : '))\n",
    "c = int(input('3번 학생의 점수를 입력하세요. : '))\n",
    "d = int(input('4번 학생의 점수를 입력하세요. : '))\n",
    "e = int(input('5번 학생의 점수를 입력하세요. : '))\n",
    "\n",
    "total =  0\n",
    "total += a\n",
    "total += b\n",
    "total += c\n",
    "total += d\n",
    "total += e\n",
    "\n",
    "print(f'합계는{total}점입니다.')\n",
    "print(f'평균은{total / 5}점입니다.')"
   ]
  },
  {
   "cell_type": "markdown",
   "id": "32a48f8a",
   "metadata": {},
   "source": [
    "- 배열 : 묶음 단위로 값을 저장하는 자료구조\n",
    "    - 원소 : 배열에 저장된 각 객체\n",
    "    - 각 원소는 0,1 ------ 순서대로 인덱스(주소)를 부여받음\n",
    "    - 원소의 자료형은 int형 float형 어떤것도 상관없음\n",
    "    - 서로 다른 자료형을 같이 저장할 수 있음\n",
    "    - 배열 원소 자체를 배열에 저장할 수도 있음"
   ]
  },
  {
   "cell_type": "code",
   "execution_count": 5,
   "id": "0aa62997",
   "metadata": {},
   "outputs": [
    {
     "name": "stdout",
     "output_type": "stream",
     "text": [
      "[1, 2, 3, 4, 5]\n",
      "['a', 'b', 'c']\n"
     ]
    }
   ],
   "source": [
    "# list 선언\n",
    "list01 = [] # 빈 리스트\n",
    "a = [1,2,3,4,5]\n",
    "b = ['a','b','c',]\n",
    "\n",
    "print(a)\n",
    "print(b)"
   ]
  },
  {
   "cell_type": "markdown",
   "id": "bbbd94ab",
   "metadata": {},
   "source": [
    "- 튜플\n",
    "    - 원소에 순서를 매겨 결합한 것으로 원소를 변경할 수 없는 자료형\n",
    "    -()만 사용하면 빈 튜플 생성"
   ]
  },
  {
   "cell_type": "code",
   "execution_count": 8,
   "id": "46950737",
   "metadata": {},
   "outputs": [
    {
     "name": "stdout",
     "output_type": "stream",
     "text": [
      "()\n",
      "(1, 2, 3)\n",
      "('A', 'B', 'C')\n"
     ]
    }
   ],
   "source": [
    " tuple01 = ()\n",
    " tuple02 = 1,2,3\n",
    " tuple03 = 'A','B','C'\n",
    "\n",
    "print(tuple01)\n",
    "print(tuple02)\n",
    "print(tuple03)"
   ]
  },
  {
   "cell_type": "code",
   "execution_count": 13,
   "id": "73a68dfa",
   "metadata": {},
   "outputs": [
    {
     "name": "stdout",
     "output_type": "stream",
     "text": [
      "(3, 5, 7, 9, 11)\n"
     ]
    }
   ],
   "source": [
    "a = tuple(range(3,13,2))\n",
    "print(a)"
   ]
  },
  {
   "cell_type": "code",
   "execution_count": null,
   "id": "1bc04fe2",
   "metadata": {},
   "outputs": [],
   "source": []
  },
  {
   "cell_type": "code",
   "execution_count": null,
   "id": "9d232196",
   "metadata": {},
   "outputs": [],
   "source": []
  }
 ],
 "metadata": {
  "kernelspec": {
   "display_name": "Python 3 (ipykernel)",
   "language": "python",
   "name": "python3"
  },
  "language_info": {
   "codemirror_mode": {
    "name": "ipython",
    "version": 3
   },
   "file_extension": ".py",
   "mimetype": "text/x-python",
   "name": "python",
   "nbconvert_exporter": "python",
   "pygments_lexer": "ipython3",
   "version": "3.9.7"
  }
 },
 "nbformat": 4,
 "nbformat_minor": 5
}
