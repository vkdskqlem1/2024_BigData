{
 "cells": [
  {
   "cell_type": "code",
   "execution_count": 1,
   "id": "1546aa91",
   "metadata": {},
   "outputs": [
    {
     "data": {
      "text/plain": [
       "[25, 36, 8, 53, 24, 56]"
      ]
     },
     "execution_count": 1,
     "metadata": {},
     "output_type": "execute_result"
    }
   ],
   "source": [
    "spending = [25,36,8,53,24,56]\n",
    "spending"
   ]
  },
  {
   "cell_type": "code",
   "execution_count": 2,
   "id": "aadff5af",
   "metadata": {},
   "outputs": [
    {
     "data": {
      "text/plain": [
       "list"
      ]
     },
     "execution_count": 2,
     "metadata": {},
     "output_type": "execute_result"
    }
   ],
   "source": [
    "type(spending)"
   ]
  },
  {
   "cell_type": "code",
   "execution_count": 4,
   "id": "92af2b35",
   "metadata": {},
   "outputs": [
    {
     "name": "stdout",
     "output_type": "stream",
     "text": [
      "<class 'list'> [25, 36, 8, 53, 24, 56, 38, 79, 84, 20, 40, 25]\n",
      "<class 'list'> [25, 36, 8, 53, 24, 56]\n"
     ]
    }
   ],
   "source": [
    "# 일년 지출\n",
    "spending_year = [25,36,8,53,24,56,38,79,84,20,40,25]\n",
    "print(type(spending_year),spending_year)\n",
    "\n",
    "# 상반기 지출\n",
    "spending_6mon = [25,36,8,53,24,56]\n",
    "print(type(spending_6mon), spending_6mon)"
   ]
  },
  {
   "cell_type": "code",
   "execution_count": 11,
   "id": "cafb4cfe",
   "metadata": {},
   "outputs": [
    {
     "name": "stdout",
     "output_type": "stream",
     "text": [
      "좋아하는 음식 개수 :  6\n",
      "좋아하는 음식 순위 : ['피자', '치킨', '떡볶이', '스테이크', '딸기', '파스타']\n",
      "가장 좋아하는 음식 :  피자\n",
      "가장 싫어하는 음식 :  딸기\n",
      "피자\n",
      "치킨\n",
      "떡볶이\n",
      "스테이크\n",
      "딸기\n",
      "파스타\n"
     ]
    }
   ],
   "source": [
    "# 가장 좋아하는 음식으 ㄹ순서대로 저장한 리스트\n",
    "food = ['피자','치킨','떡볶이','스테이크','딸기','파스타']\n",
    "print('좋아하는 음식 개수 : ',len(food)) # 개수len\n",
    "print('좋아하는 음식 순위 :',food)\n",
    "print('가장 좋아하는 음식 : ',food[0])\n",
    "print('가장 싫어하는 음식 : ',food[-2])\n",
    "for i in food:\n",
    "    print(i)"
   ]
  },
  {
   "cell_type": "code",
   "execution_count": 21,
   "id": "c172e9e8",
   "metadata": {},
   "outputs": [
    {
     "name": "stdout",
     "output_type": "stream",
     "text": [
      "좋아하는 음식의 순위별로 출력하세요\n",
      "1등은 피자\n",
      "2등은 치킨\n",
      "3등은 떡볶이\n",
      "4등은 스테이크\n",
      "5등은 딸기\n",
      "6등은 파스타\n"
     ]
    }
   ],
   "source": [
    "# 가장 좋아하는 음식을 순서대로 저장한 리스트\n",
    "food = ['피자','치킨','떡볶이','스테이크','딸기','파스타']\n",
    "print('좋아하는 음식의 순위별로 출력하세요')\n",
    "for i in range(6):\n",
    "    print(f'{i+1}등은',food[i])"
   ]
  },
  {
   "cell_type": "code",
   "execution_count": 27,
   "id": "69929ee8",
   "metadata": {},
   "outputs": [
    {
     "name": "stdout",
     "output_type": "stream",
     "text": [
      "좋아하는 음식의 순위별로 출력하세요\n",
      "1등은 피자\n",
      "2등은 치킨\n",
      "3등은 떡볶이\n",
      "4등은 스테이크\n",
      "5등은 딸기\n",
      "6등은 파스타\n",
      "7등은 봉구스밥버거\n"
     ]
    }
   ],
   "source": [
    "# 가장 좋아하는 음식을 순서대로 저장한 리스트\n",
    "food = ['피자','치킨','떡볶이','스테이크','딸기','파스타','봉구스밥버거']\n",
    "print('좋아하는 음식의 순위별로 출력하세요')\n",
    "for i in range(len(food)):\n",
    "    print(f'{i+1}등은 {food[i]}')"
   ]
  },
  {
   "cell_type": "code",
   "execution_count": 183,
   "id": "7a105162",
   "metadata": {},
   "outputs": [
    {
     "name": "stdout",
     "output_type": "stream",
     "text": [
      "['피자', '치킨', '떡볶이', '스테이크', '딸기', '파스타', '봉구스밥버거', '감자칩', '감자칩', '감자칩', '감자칩', '감자칩', '감자칩', '감자칩', '감자칩', '감자칩', '감자칩', '감자칩', '감자칩', '감자칩', '감자칩', '감자칩', '감자칩', '감자칩', '감자칩', '감자칩', '감자칩', '감자칩', '감자칩', '감자칩', '감자칩', '감자칩', '감자칩', '감자칩', '감자칩', '감자칩', '감자칩', '감자칩', '감자칩', '감자칩', '감자칩', '감자칩', '감자칩', '감자칩', '감자칩', '감자칩', '감자칩', '감자칩', '감자칩', '감자칩', '감자칩', '감자칩', '감자칩', '감자칩', '감자칩', '감자칩', '감자칩', '감자칩', '감자칩', '감자칩', '감자칩', '감자칩', '감자칩', '감자칩', '감자칩', '감자칩', '감자칩', '감자칩', '감자칩', '감자칩', '감자칩', '감자칩', '감자칩', '감자칩', '감자칩', '감자칩', '감자칩', '감자칩', '감자칩', '감자칩', '감자칩', '감자칩', '감자칩', '감자칩', '감자칩', '감자칩', '감자칩', '감자칩', '감자칩', '감자칩', '감자칩', '감자칩', '감자칩', '감자칩', '감자칩', '감자칩', '감자칩', '감자칩', '감자칩', '감자칩', '감자칩', '감자칩', '감자칩', '감자칩', '감자칩', '감자칩', '감자칩', '감자칩', '감자칩', '감자칩', '감자칩', '감자칩', '감자칩', '감자칩', '감자칩', '감자칩', '감자칩', '감자칩', '감자칩', '감자칩', '감자칩', '감자칩', '감자칩', '감자칩', '감자칩', '감자칩', '감자칩', '감자칩', '감자칩', '감자칩', '감자칩', '감자칩', '감자칩', '감자칩', '감자칩', '감자칩', '감자칩', '감자칩', '감자칩', '감자칩', '감자칩', '감자칩', '감자칩', '감자칩', '감자칩', '감자칩', '감자칩', '감자칩', '감자칩', '감자칩', '감자칩', '감자칩', '감자칩', '감자칩', '감자칩', '감자칩', '감자칩', '감자칩', '감자칩', '감자칩', '감자칩', '감자칩', '감자칩']\n"
     ]
    }
   ],
   "source": [
    "# food에 감자칩을 추가해 주면\n",
    "food.append('감자칩')\n",
    "print(food)"
   ]
  },
  {
   "cell_type": "markdown",
   "id": "f4f08acd",
   "metadata": {},
   "source": [
    "```\n",
    "\n",
    "해야할 일을 차례대로 입력해주세요.\n",
    "생일선물 사기\n",
    "인강 듣기\n",
    "파이썬 6장 공부하기\n",
    "책 읽기\n",
    "영 단어 외우기"
   ]
  },
  {
   "cell_type": "code",
   "execution_count": 193,
   "id": "50e5d1de",
   "metadata": {},
   "outputs": [
    {
     "name": "stdout",
     "output_type": "stream",
     "text": [
      "해야할 일을 차례대로 입력해주세요.\n",
      "오\n",
      "구\n",
      "라\n",
      "유\n",
      "나\n",
      "['오', '구', '라', '유', '나']\n"
     ]
    }
   ],
   "source": [
    "a = []\n",
    "print('해야할 일을 차례대로 입력해주세요.')\n",
    "for i in range(5):\n",
    "    a.append(input())\n",
    "print(a)"
   ]
  },
  {
   "cell_type": "code",
   "execution_count": 194,
   "id": "6c80dc73",
   "metadata": {},
   "outputs": [
    {
     "name": "stdout",
     "output_type": "stream",
     "text": [
      "['구', '라', '유', '나']\n"
     ]
    }
   ],
   "source": [
    "# 리스트에서 지우는 명령어 remove\n",
    "\n",
    "a.remove('오')\n",
    "print(a)"
   ]
  },
  {
   "cell_type": "code",
   "execution_count": 199,
   "id": "c3f99848",
   "metadata": {},
   "outputs": [
    {
     "name": "stdout",
     "output_type": "stream",
     "text": [
      "연도 : 2024\n",
      "월 : 04\n",
      "일 : 29\n"
     ]
    }
   ],
   "source": [
    "d = '2024-04-29'\n",
    "\n",
    "print('연도 :', d[0:4])\n",
    "print('월 :', d[5:7])\n",
    "print('일 :', d[-2:])"
   ]
  }
 ],
 "metadata": {
  "kernelspec": {
   "display_name": "Python 3 (ipykernel)",
   "language": "python",
   "name": "python3"
  },
  "language_info": {
   "codemirror_mode": {
    "name": "ipython",
    "version": 3
   },
   "file_extension": ".py",
   "mimetype": "text/x-python",
   "name": "python",
   "nbconvert_exporter": "python",
   "pygments_lexer": "ipython3",
   "version": "3.9.7"
  }
 },
 "nbformat": 4,
 "nbformat_minor": 5
}
