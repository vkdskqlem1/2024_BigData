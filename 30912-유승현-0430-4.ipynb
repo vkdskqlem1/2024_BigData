{
 "cells": [
  {
   "cell_type": "code",
   "execution_count": 5,
   "id": "9500ca4f",
   "metadata": {},
   "outputs": [
    {
     "name": "stdout",
     "output_type": "stream",
     "text": [
      "연도 : 2024\n",
      "월 :  04\n",
      "일 :  30\n"
     ]
    }
   ],
   "source": [
    "date = '2024-04-30'\n",
    "\n",
    "print('연도 :',date[:4])\n",
    "print('월 : ',date[5:7])\n",
    "print('일 : ',date[-2:])"
   ]
  },
  {
   "cell_type": "code",
   "execution_count": 8,
   "id": "5501eabd",
   "metadata": {},
   "outputs": [
    {
     "name": "stdout",
     "output_type": "stream",
     "text": [
      "['준원이', '바보', '바보']\n",
      "준원이\n",
      "바보\n",
      "바보\n"
     ]
    }
   ],
   "source": [
    "# 공백으로 문장을 나누는 명령어 split\n",
    "a = \"준원이 바보 바보\"\n",
    "print(a.split()) #list\n",
    "print(a.split()[0])\n",
    "print(a.split()[1])\n",
    "print(a.split()[2])"
   ]
  },
  {
   "cell_type": "code",
   "execution_count": 14,
   "id": "49817454",
   "metadata": {},
   "outputs": [
    {
     "name": "stdout",
     "output_type": "stream",
     "text": [
      "['2024', '04', '30']\n",
      "2024\n",
      "04\n",
      "30\n"
     ]
    }
   ],
   "source": [
    "# -(하이픈)을 기준으로 split\n",
    "date = '2024-04-30'\n",
    "print(date.split('-'))\n",
    "print(date.split('-')[0])\n",
    "print(date.split('-')[1])\n",
    "print(date.split('-')[2])"
   ]
  },
  {
   "cell_type": "code",
   "execution_count": 16,
   "id": "16c61a7d",
   "metadata": {},
   "outputs": [
    {
     "name": "stdout",
     "output_type": "stream",
     "text": [
      "정렬 후 :  ['감자칩', '된장찌게', '바나나', '스테이크', '치킨', '파스타', '피자']\n"
     ]
    }
   ],
   "source": [
    "# 리스트 원소 정렬하기 .sort()\n",
    "food =['피자','치킨','스테이크','된장찌게','바나나','파스타','감자칩']\n",
    "\n",
    "food.sort()\n",
    "print('정렬 후 : ',food)"
   ]
  },
  {
   "cell_type": "code",
   "execution_count": 18,
   "id": "e425cda7",
   "metadata": {},
   "outputs": [
    {
     "name": "stdout",
     "output_type": "stream",
     "text": [
      "정렬 후 :  ['피자', '파스타', '치킨', '스테이크', '바나나', '된장찌게', '감자칩']\n"
     ]
    }
   ],
   "source": [
    "# 리스트 원소 정렬하기 .sort(reverse=True)\n",
    "food =['피자','치킨','스테이크','된장찌게','바나나','파스타','감자칩']\n",
    "\n",
    "food.sort(reverse=True)\n",
    "print('정렬 후 : ',food)"
   ]
  },
  {
   "cell_type": "code",
   "execution_count": 22,
   "id": "3f9931e4",
   "metadata": {},
   "outputs": [
    {
     "name": "stdout",
     "output_type": "stream",
     "text": [
      "[56, 53]\n"
     ]
    }
   ],
   "source": [
    "# 문제 역순으로 정렬하고 첫번째 두번째를 출력해 보기\n",
    "a = [25,36,8,53,24,56]\n",
    "\n",
    "a.sort(reverse=True)\n",
    "print(a[0:2])"
   ]
  },
  {
   "cell_type": "code",
   "execution_count": 27,
   "id": "7f89c236",
   "metadata": {},
   "outputs": [
    {
     "name": "stdout",
     "output_type": "stream",
     "text": [
      "최대값 :  56\n",
      "최소값 :  8\n",
      "전체값 :  202\n",
      "24의 위치는 :  5\n"
     ]
    }
   ],
   "source": [
    "# 리스트 원소 중 최대값, 최소값 찾기 max min\n",
    "\n",
    "a = [25,36,8,53,24,56]\n",
    "\n",
    "print('최대값 : ',max(a))\n",
    "print('최소값 : ',min(a))\n",
    "\n",
    "# 리스트 원소 전체의 합 : sum\n",
    "print('전체값 : ',sum(a))\n",
    "# 리스트안의 원소의 위치를 찾기 index\n",
    "print('24의 위치는 : ',a.index(24)+1)"
   ]
  }
 ],
 "metadata": {
  "kernelspec": {
   "display_name": "Python 3 (ipykernel)",
   "language": "python",
   "name": "python3"
  },
  "language_info": {
   "codemirror_mode": {
    "name": "ipython",
    "version": 3
   },
   "file_extension": ".py",
   "mimetype": "text/x-python",
   "name": "python",
   "nbconvert_exporter": "python",
   "pygments_lexer": "ipython3",
   "version": "3.9.7"
  }
 },
 "nbformat": 4,
 "nbformat_minor": 5
}
