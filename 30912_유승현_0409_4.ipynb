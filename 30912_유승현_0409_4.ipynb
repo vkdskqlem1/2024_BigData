{
 "cells": [
  {
   "cell_type": "markdown",
   "id": "05e5033d",
   "metadata": {},
   "source": [
    "## 조건문으로 간단한 프로그램 만들기"
   ]
  },
  {
   "cell_type": "code",
   "execution_count": 1,
   "id": "76310b63",
   "metadata": {},
   "outputs": [],
   "source": [
    "# 목욕탕에 가면 미성년자는 6000원 15000원\n",
    "# 나이를 입력받아서 구분하는 프로그램을 만드시오"
   ]
  },
  {
   "cell_type": "code",
   "execution_count": 27,
   "id": "f220172f",
   "metadata": {},
   "outputs": [
    {
     "name": "stdout",
     "output_type": "stream",
     "text": [
      "너 나이가 몇살이야 : 3\n",
      "미성년자는 6000원 입니다\n"
     ]
    }
   ],
   "source": [
    "나이 = int(input(\"너 나이가 몇살이야 : \"))\n",
    "\n",
    "if 나이 >= 20 :\n",
    "    print('성인은 15000원 입니다')\n",
    "else :\n",
    "    print('미성년자는 6000원 입니다')"
   ]
  },
  {
   "cell_type": "code",
   "execution_count": 41,
   "id": "b7101eed",
   "metadata": {},
   "outputs": [
    {
     "name": "stdout",
     "output_type": "stream",
     "text": [
      "나이 몇살? 3\n",
      "미성년자는 6000원 입니다\n",
      "금액을 투입해 주세요 --> 6000\n",
      "즐거운 시간 되십쇼\n"
     ]
    }
   ],
   "source": [
    "# 나이 구분\n",
    "# 금액 구분\n",
    "\n",
    "# 1단계\n",
    "나이 = int(input('나이 몇살? '))\n",
    "if 나이 >= 20 :\n",
    "    print('성인은 15000원 입니다')\n",
    "    돈 = 15000\n",
    "else:\n",
    "    print('미성년자는 6000원 입니다')\n",
    "    돈 = 6000\n",
    "돈받기 = int(input('금액을 투입해 주세요 --> '))\n",
    "\n",
    "if 돈받기 < 돈 :\n",
    "    print(f'{돈-돈받기}원 더 내셔야 합니다.')\n",
    "elif 돈 == 돈받기:\n",
    "    print('즐거운 시간 되십쇼')\n",
    "else :\n",
    "    print(f'{돈받기-돈}원 거슬러 드리겠습니다')"
   ]
  },
  {
   "cell_type": "markdown",
   "id": "3c31f292",
   "metadata": {},
   "source": [
    "# 어떤 메뉴가 궁금하신가요? 라면\n",
    "기본라면 : 3500원\n",
    "떡라면 : 4000원\n",
    "만두라면 : 4000원\n",
    "치즈라면: 공짜\n",
    "\n",
    "김밥\n",
    "야채김밥 : 3000원\n",
    "참치김밥 : 4000원\n",
    "꼬마김밥 : 2000원\n"
   ]
  },
  {
   "cell_type": "code",
   "execution_count": null,
   "id": "35d0a8bc",
   "metadata": {},
   "outputs": [],
   "source": [
    "메뉴 = input('어떤 메뉴가 궁금하신가요')\n",
    "if 메뉴 == '김밥' :\n",
    "    print('야채김밥: 2500원')\n",
    "    print('참치김밥: 3500원')\n",
    "    print('꼬마김밥: 2000원')\n",
    "elif 메뉴 == '라면' :\n",
    "    print('기본라면: 3500원')\n",
    "    print('떡라면 : 4000원')\n",
    "    print('만두라면 : 4000원')\n",
    "    print('치즈라면 : 공짜')\n",
    "else:\n",
    "    print('안팔아 이 쉐리야')"
   ]
  }
 ],
 "metadata": {
  "kernelspec": {
   "display_name": "Python 3 (ipykernel)",
   "language": "python",
   "name": "python3"
  },
  "language_info": {
   "codemirror_mode": {
    "name": "ipython",
    "version": 3
   },
   "file_extension": ".py",
   "mimetype": "text/x-python",
   "name": "python",
   "nbconvert_exporter": "python",
   "pygments_lexer": "ipython3",
   "version": "3.9.7"
  }
 },
 "nbformat": 4,
 "nbformat_minor": 5
}
