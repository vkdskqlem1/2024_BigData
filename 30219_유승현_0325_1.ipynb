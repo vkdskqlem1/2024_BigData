{
 "cells": [
  {
   "cell_type": "code",
   "execution_count": null,
   "id": "5a6f76d1",
   "metadata": {},
   "outputs": [],
   "source": [
    "print('1부터 n까지 정수의 합을 구합니다.')\n",
    "# n값이 0보다 크면 빠져나간다.\n",
    "while True:\n",
    "        n = int(input('n값을 입력하세요. :'))\n",
    "        if n > 0:\n",
    "            break\n",
    "#변수 선언 및 초기화\n",
    "sum = 0\n",
    "i = 1\n",
    "\n",
    "for i in range(1, n+1):\n",
    "    sum += i\n",
    "    i += 1\n",
    "\n",
    "print(f'1부터 {n}까지 정수의 합은 {sum}입니다.')"
   ]
  },
  {
   "cell_type": "markdown",
   "id": "f6a012e5",
   "metadata": {},
   "source": [
    "- 변의 길이와 넓이가 모두 정수인 직사각형에서 변의 길이를 구하는 프로그램\n",
    "  - 짧은 변과 긴 변의 길이는 구별하지 않음\n",
    "    - 예) 직사각형의 넓이가 32이면\n",
    "      변의 길이를 1x32,2 x 16,4 x 8만 출력"
   ]
  },
  {
   "cell_type": "code",
   "execution_count": 39,
   "id": "b8d503c2",
   "metadata": {},
   "outputs": [
    {
     "name": "stdout",
     "output_type": "stream",
     "text": [
      "직사각형의 넓이를 입력하세요.:999999\n",
      "1 x 999999\n",
      "3 x 333333\n",
      "7 x 142857\n",
      "9 x 111111\n",
      "11 x 90909\n",
      "13 x 76923\n",
      "21 x 47619\n",
      "27 x 37037\n",
      "33 x 30303\n",
      "37 x 27027\n",
      "39 x 25641\n",
      "63 x 15873\n",
      "77 x 12987\n",
      "91 x 10989\n",
      "99 x 10101\n",
      "111 x 9009\n",
      "117 x 8547\n",
      "143 x 6993\n",
      "189 x 5291\n",
      "231 x 4329\n",
      "259 x 3861\n",
      "273 x 3663\n",
      "297 x 3367\n",
      "333 x 3003\n",
      "351 x 2849\n",
      "407 x 2457\n",
      "429 x 2331\n",
      "481 x 2079\n",
      "693 x 1443\n",
      "777 x 1287\n",
      "819 x 1221\n",
      "999 x 1001\n"
     ]
    }
   ],
   "source": [
    "# 가로, 세로 길이가 정수이고 넓이가 area인 직사각형에서 변의 길이 나열하기\n",
    "\n",
    "n = int(input('직사각형의 넓이를 입력하세요.:'))\n",
    "\n",
    "for i in range(1, n+1):\n",
    "    if i * i > n : break\n",
    "    if n % i : continue\n",
    "    print(f'{i} x {n // i}')"
   ]
  }
 ],
 "metadata": {
  "kernelspec": {
   "display_name": "Python 3 (ipykernel)",
   "language": "python",
   "name": "python3"
  },
  "language_info": {
   "codemirror_mode": {
    "name": "ipython",
    "version": 3
   },
   "file_extension": ".py",
   "mimetype": "text/x-python",
   "name": "python",
   "nbconvert_exporter": "python",
   "pygments_lexer": "ipython3",
   "version": "3.9.7"
  }
 },
 "nbformat": 4,
 "nbformat_minor": 5
}
