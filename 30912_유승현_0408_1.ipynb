{
 "cells": [
  {
   "cell_type": "markdown",
   "id": "273c0214",
   "metadata": {},
   "source": [
    "## 선택구조 조건이 하나 일때\n",
    " - if문"
   ]
  },
  {
   "cell_type": "code",
   "execution_count": 1,
   "id": "d2512443",
   "metadata": {},
   "outputs": [],
   "source": [
    "age = 20\n",
    "\n",
    "# 청소년은 주류를 구매할 수 없습니다. 출력\n",
    "\n",
    "if age < 20 :\n",
    "    print(f'청소년은 주류를 구매할 수 없습니다')"
   ]
  },
  {
   "cell_type": "code",
   "execution_count": 2,
   "id": "f78a0f24",
   "metadata": {},
   "outputs": [
    {
     "name": "stdout",
     "output_type": "stream",
     "text": [
      "나이가 어떻게 되세요?2\n",
      "청소년은 주류를 구매할 수 없습니다\n"
     ]
    }
   ],
   "source": [
    "age = int(input('나이가 어떻게 되세요?'))\n",
    "\n",
    "if age < 20 :\n",
    "    print(f'청소년은 주류를 구매할 수 없습니다')\n",
    "else:\n",
    "    print('청소년은 주류를 구매할 수 있다')"
   ]
  },
  {
   "cell_type": "code",
   "execution_count": 3,
   "id": "a4146529",
   "metadata": {},
   "outputs": [
    {
     "name": "stdout",
     "output_type": "stream",
     "text": [
      "나이가 어떻게 되세요?9999999999\n",
      "-9999999979년 후에 구매 가능합니다\n"
     ]
    }
   ],
   "source": [
    "age = int(input('나이가 어떻게 되세요?'))\n",
    "\n",
    "if age < 20 :\n",
    "    print(f'청소년은 주류를 구매할 수 없습니다')\n",
    "print(f'{20-age}년 후에 구매 가능합니다')"
   ]
  },
  {
   "cell_type": "markdown",
   "id": "81db7eb8",
   "metadata": {},
   "source": [
    "# 50000원 이하여 배송비 2500원이 추가 됩니다."
   ]
  },
  {
   "cell_type": "code",
   "execution_count": 13,
   "id": "f292f240",
   "metadata": {},
   "outputs": [
    {
     "name": "stdout",
     "output_type": "stream",
     "text": [
      "구매 금액은? 23245\n",
      "배송비 2500원이 추가 됩니다.\n",
      "당신의 최종 결제 금액은: 25745 이다\n"
     ]
    }
   ],
   "source": [
    "배달비 = int(input('구매 금액은? '))\n",
    "\n",
    "if 배달비 < 50000 :\n",
    "    print(f'배송비 2500원이 추가 됩니다.')\n",
    "    print(f'당신의 최종 결제 금액은: {2500+배달비} 이다')\n",
    "else: \n",
    "    print(f'배송비 무료 입니다')\n",
    "    print(f'최종 결제 금액은 {배달비}입니다.')"
   ]
  },
  {
   "cell_type": "code",
   "execution_count": 20,
   "id": "5050fac1",
   "metadata": {},
   "outputs": [
    {
     "name": "stdout",
     "output_type": "stream",
     "text": [
      "오늘은 며칠입니다?8\n",
      "짝수번호 차량만 통행 가능합니다.\n",
      "홀수번호 차량은 오늘 대중교통을 이용해 주세요\n"
     ]
    }
   ],
   "source": [
    "날짜 = int(input('오늘은 며칠입니다?'))\n",
    "\n",
    "if 날짜 % 2 == 0 :\n",
    "    print(f'짝수번호 차량만 통행 가능합니다.')\n",
    "    print(f'홀수번호 차량은 오늘 대중교통을 이용해 주세요')\n",
    "else :\n",
    "    print(f'홀수번호 차량만 통행 가능합니다.')\n",
    "    print(f'짝수번호 차량은 오늘 대중교통을 이용해 주세요')\n",
    "    "
   ]
  }
 ],
 "metadata": {
  "kernelspec": {
   "display_name": "Python 3 (ipykernel)",
   "language": "python",
   "name": "python3"
  },
  "language_info": {
   "codemirror_mode": {
    "name": "ipython",
    "version": 3
   },
   "file_extension": ".py",
   "mimetype": "text/x-python",
   "name": "python",
   "nbconvert_exporter": "python",
   "pygments_lexer": "ipython3",
   "version": "3.9.7"
  }
 },
 "nbformat": 4,
 "nbformat_minor": 5
}
